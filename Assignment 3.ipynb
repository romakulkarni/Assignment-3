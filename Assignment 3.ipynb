{
 "cells": [
  {
   "cell_type": "raw",
   "id": "03baf23c-48f3-4235-8f3b-f8c37c94f256",
   "metadata": {},
   "source": [
    "1. Why are functions advantageous to have in your programs?\n",
    "\n",
    "Ans- \n",
    "  1. Functions make code readable. \n",
    "  2. A code or operation if we need to do number of times we can create a function and not write it multiple          times. So it reduces redundancy.\n",
    "  3. Saves time of developer.\n",
    "  4. Breaks program in small peices which can be easily edited without disturbing the whole code."
   ]
  },
  {
   "cell_type": "raw",
   "id": "ce596e43-86d4-4834-8daf-fac825119945",
   "metadata": {},
   "source": [
    "2. When does the code in a function run: when it's specified or when it's called?\n",
    "\n",
    "Ans- The code specified in a function runs when it is called."
   ]
  },
  {
   "cell_type": "raw",
   "id": "6b15f2ab-8d97-486e-8c1f-a572b61aabb8",
   "metadata": {},
   "source": [
    "3. What statement creates a function?\n",
    "\n",
    "Ans- def keyword creates a function"
   ]
  },
  {
   "cell_type": "raw",
   "id": "3a843b7a-9b9b-4a63-acd0-f9996db26c9b",
   "metadata": {},
   "source": [
    "4. What is the difference between a function and a function call?\n",
    "\n",
    "Ans- A function is a set of code where parameters are passed which runs when called.\n",
    "     A function call is a call for the function declared in the program before.\n",
    "     A function is code defined and function call is calling the declared fucntion when needed."
   ]
  },
  {
   "cell_type": "raw",
   "id": "d76dd5a2-2d56-4202-b93d-63cf93f2da27",
   "metadata": {},
   "source": [
    "5. How many global scopes are there in a Python program? How many local scopes?\n",
    "\n",
    "Ans- There is one global scope in python per execution. We can define many local scopes in python as it is defined in a fucntion and we can define many functions."
   ]
  },
  {
   "cell_type": "raw",
   "id": "c8cbcfbd-f07c-41fb-98a6-26c03347dcfc",
   "metadata": {},
   "source": [
    "6. What happens to variables in a local scope when the function call returns?\n",
    "\n",
    "Ans- The variablesin local scope get destroyed when function call returns."
   ]
  },
  {
   "cell_type": "raw",
   "id": "44176fac-a10a-4810-ae22-f3feb9dfdfd4",
   "metadata": {},
   "source": [
    "7. What is the concept of a return value? Is it possible to have a return value in an expression?\n",
    "\n",
    "Ans- Return value is the value a function returns. The result or value it has returned after performing specific task.\n",
    "     Yes, an expression can have a return value. "
   ]
  },
  {
   "cell_type": "raw",
   "id": "7ef7653d-5151-4b7c-a744-fa8efc4343c6",
   "metadata": {},
   "source": [
    "8. If a function does not have a return statement, what is the return value of a call to that function?\n",
    "\n",
    "Ans- It remains undefined or none."
   ]
  },
  {
   "cell_type": "raw",
   "id": "613c6e96-d420-4dcf-a578-ac10cf402788",
   "metadata": {},
   "source": [
    "9. How do you make a function variable refer to the global variable?\n",
    "\n",
    "Ans- Using a global statement a function variable refer to global variable."
   ]
  },
  {
   "cell_type": "raw",
   "id": "306e3c9c-ec46-4d5d-82ed-3493f21eb175",
   "metadata": {},
   "source": [
    "10. What is the data type of None?\n",
    "\n",
    "Ans- Data type of none is nonetype itself i.e. no value or null"
   ]
  },
  {
   "cell_type": "raw",
   "id": "29437a02-e2f2-464b-9efb-a6b956f61174",
   "metadata": {},
   "source": [
    "11. What does the sentence import areallyourpetsnamederic do?\n",
    "\n",
    "Ans- The import is used to import some module so it imports areallyourpetsnamedric module in the program"
   ]
  },
  {
   "cell_type": "raw",
   "id": "c41306da-1b83-4918-bea5-cd0c3332f563",
   "metadata": {},
   "source": [
    "12. If you had a bacon() feature in a spam module, what would you call it after importing spam?\n",
    "\n",
    "Ans- We can used spam.bacon()"
   ]
  },
  {
   "cell_type": "raw",
   "id": "631860f4-6692-4725-99dc-361ff9534575",
   "metadata": {},
   "source": [
    "13. What can you do to save a programme from crashing if it encounters an error?\n",
    "\n",
    "Ans- We can use exception handeling here. Use try block to save the program from crashing."
   ]
  },
  {
   "cell_type": "raw",
   "id": "9bfbab46-f945-4ae5-a9fd-9d4b0ae20410",
   "metadata": {},
   "source": [
    "14. What is the purpose of the try clause? What is the purpose of the except clause?\n",
    "\n",
    "Ans- Try clause is used if a code causes error.\n",
    "     Except block is used when a code is executed when a error arises."
   ]
  }
 ],
 "metadata": {
  "kernelspec": {
   "display_name": "Python 3 (ipykernel)",
   "language": "python",
   "name": "python3"
  },
  "language_info": {
   "codemirror_mode": {
    "name": "ipython",
    "version": 3
   },
   "file_extension": ".py",
   "mimetype": "text/x-python",
   "name": "python",
   "nbconvert_exporter": "python",
   "pygments_lexer": "ipython3",
   "version": "3.10.6"
  }
 },
 "nbformat": 4,
 "nbformat_minor": 5
}
